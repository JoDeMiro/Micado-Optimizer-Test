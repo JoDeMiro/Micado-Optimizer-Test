{
  "nbformat": 4,
  "nbformat_minor": 0,
  "metadata": {
    "colab": {
      "name": "Auditor for Mylog.ipynb",
      "provenance": [],
      "authorship_tag": "ABX9TyMcXhJS33OiCQlU6tLm+qLk",
      "include_colab_link": true
    },
    "kernelspec": {
      "name": "python3",
      "display_name": "Python 3"
    },
    "language_info": {
      "name": "python"
    }
  },
  "cells": [
    {
      "cell_type": "markdown",
      "metadata": {
        "id": "view-in-github",
        "colab_type": "text"
      },
      "source": [
        "<a href=\"https://colab.research.google.com/github/JoDeMiro/Micado-Optimizer-Test/blob/main/Auditor_for_Mylog.ipynb\" target=\"_parent\"><img src=\"https://colab.research.google.com/assets/colab-badge.svg\" alt=\"Open In Colab\"/></a>"
      ]
    },
    {
      "cell_type": "code",
      "execution_count": 1,
      "metadata": {
        "id": "eO2UEq0JuLQN"
      },
      "outputs": [],
      "source": [
        "import pandas as pd\n",
        "import numpy as np\n"
      ]
    },
    {
      "cell_type": "code",
      "source": [
        "df = pd.read_csv('mylog.log', sep=' ', header=1)"
      ],
      "metadata": {
        "id": "tVhLhTlXuO5I"
      },
      "execution_count": 9,
      "outputs": []
    },
    {
      "cell_type": "code",
      "source": [
        "df.head()"
      ],
      "metadata": {
        "colab": {
          "base_uri": "https://localhost:8080/",
          "height": 300
        },
        "id": "uVlRM3AuubRJ",
        "outputId": "1d491b86-bb69-46c1-b9d6-848f907ceb6e"
      },
      "execution_count": 10,
      "outputs": [
        {
          "output_type": "execute_result",
          "data": {
            "text/plain": [
              "      #Date      Time  [CPU:0]User%  [CPU:0]Nice%  [CPU:0]Sys%  [CPU:0]Wait%  \\\n",
              "0  20220413  15:56:40             4             0            4             0   \n",
              "1  20220413  15:56:41             5             0            9             0   \n",
              "2  20220413  15:56:42             7             0            8             0   \n",
              "3  20220413  15:56:43             1             0            0             0   \n",
              "4  20220413  15:56:44             0             0            0             1   \n",
              "\n",
              "   [CPU:0]Irq%  [CPU:0]Soft%  [CPU:0]Steal%  [CPU:0]Idle%  ...  \\\n",
              "0            0             1              0            91  ...   \n",
              "1            0             0              0            86  ...   \n",
              "2            0             0              0            85  ...   \n",
              "3            0             0              0            99  ...   \n",
              "4            0             0              0            99  ...   \n",
              "\n",
              "   [TCPD]OutTimeExcds  [TCPD]OutParmProbs  [TCPD]OutSrcQuenchs  \\\n",
              "0                   0                   0                    0   \n",
              "1                   0                   0                    0   \n",
              "2                   0                   0                    0   \n",
              "3                   0                   0                    0   \n",
              "4                   0                   0                    0   \n",
              "\n",
              "   [TCPD]OutRedirects  [TCPD]OutEchos  [TCPD]OutEchoReps  [TCPD]OutTimestamps  \\\n",
              "0                   0               0                  0                    0   \n",
              "1                   0               0                  0                    0   \n",
              "2                   0               0                  0                    0   \n",
              "3                   0               0                  0                    0   \n",
              "4                   0               0                  0                    0   \n",
              "\n",
              "   [TCPD]OutTimestampReps  [TCPD]OutAddrMasks  [TCPD]OutAddrMaskReps  \n",
              "0                       0                   0                      0  \n",
              "1                       0                   0                      0  \n",
              "2                       0                   0                      0  \n",
              "3                       0                   0                      0  \n",
              "4                       0                   0                      0  \n",
              "\n",
              "[5 rows x 117 columns]"
            ],
            "text/html": [
              "\n",
              "  <div id=\"df-211e095d-c3cf-422b-9fc2-5dd38fd4ab2b\">\n",
              "    <div class=\"colab-df-container\">\n",
              "      <div>\n",
              "<style scoped>\n",
              "    .dataframe tbody tr th:only-of-type {\n",
              "        vertical-align: middle;\n",
              "    }\n",
              "\n",
              "    .dataframe tbody tr th {\n",
              "        vertical-align: top;\n",
              "    }\n",
              "\n",
              "    .dataframe thead th {\n",
              "        text-align: right;\n",
              "    }\n",
              "</style>\n",
              "<table border=\"1\" class=\"dataframe\">\n",
              "  <thead>\n",
              "    <tr style=\"text-align: right;\">\n",
              "      <th></th>\n",
              "      <th>#Date</th>\n",
              "      <th>Time</th>\n",
              "      <th>[CPU:0]User%</th>\n",
              "      <th>[CPU:0]Nice%</th>\n",
              "      <th>[CPU:0]Sys%</th>\n",
              "      <th>[CPU:0]Wait%</th>\n",
              "      <th>[CPU:0]Irq%</th>\n",
              "      <th>[CPU:0]Soft%</th>\n",
              "      <th>[CPU:0]Steal%</th>\n",
              "      <th>[CPU:0]Idle%</th>\n",
              "      <th>...</th>\n",
              "      <th>[TCPD]OutTimeExcds</th>\n",
              "      <th>[TCPD]OutParmProbs</th>\n",
              "      <th>[TCPD]OutSrcQuenchs</th>\n",
              "      <th>[TCPD]OutRedirects</th>\n",
              "      <th>[TCPD]OutEchos</th>\n",
              "      <th>[TCPD]OutEchoReps</th>\n",
              "      <th>[TCPD]OutTimestamps</th>\n",
              "      <th>[TCPD]OutTimestampReps</th>\n",
              "      <th>[TCPD]OutAddrMasks</th>\n",
              "      <th>[TCPD]OutAddrMaskReps</th>\n",
              "    </tr>\n",
              "  </thead>\n",
              "  <tbody>\n",
              "    <tr>\n",
              "      <th>0</th>\n",
              "      <td>20220413</td>\n",
              "      <td>15:56:40</td>\n",
              "      <td>4</td>\n",
              "      <td>0</td>\n",
              "      <td>4</td>\n",
              "      <td>0</td>\n",
              "      <td>0</td>\n",
              "      <td>1</td>\n",
              "      <td>0</td>\n",
              "      <td>91</td>\n",
              "      <td>...</td>\n",
              "      <td>0</td>\n",
              "      <td>0</td>\n",
              "      <td>0</td>\n",
              "      <td>0</td>\n",
              "      <td>0</td>\n",
              "      <td>0</td>\n",
              "      <td>0</td>\n",
              "      <td>0</td>\n",
              "      <td>0</td>\n",
              "      <td>0</td>\n",
              "    </tr>\n",
              "    <tr>\n",
              "      <th>1</th>\n",
              "      <td>20220413</td>\n",
              "      <td>15:56:41</td>\n",
              "      <td>5</td>\n",
              "      <td>0</td>\n",
              "      <td>9</td>\n",
              "      <td>0</td>\n",
              "      <td>0</td>\n",
              "      <td>0</td>\n",
              "      <td>0</td>\n",
              "      <td>86</td>\n",
              "      <td>...</td>\n",
              "      <td>0</td>\n",
              "      <td>0</td>\n",
              "      <td>0</td>\n",
              "      <td>0</td>\n",
              "      <td>0</td>\n",
              "      <td>0</td>\n",
              "      <td>0</td>\n",
              "      <td>0</td>\n",
              "      <td>0</td>\n",
              "      <td>0</td>\n",
              "    </tr>\n",
              "    <tr>\n",
              "      <th>2</th>\n",
              "      <td>20220413</td>\n",
              "      <td>15:56:42</td>\n",
              "      <td>7</td>\n",
              "      <td>0</td>\n",
              "      <td>8</td>\n",
              "      <td>0</td>\n",
              "      <td>0</td>\n",
              "      <td>0</td>\n",
              "      <td>0</td>\n",
              "      <td>85</td>\n",
              "      <td>...</td>\n",
              "      <td>0</td>\n",
              "      <td>0</td>\n",
              "      <td>0</td>\n",
              "      <td>0</td>\n",
              "      <td>0</td>\n",
              "      <td>0</td>\n",
              "      <td>0</td>\n",
              "      <td>0</td>\n",
              "      <td>0</td>\n",
              "      <td>0</td>\n",
              "    </tr>\n",
              "    <tr>\n",
              "      <th>3</th>\n",
              "      <td>20220413</td>\n",
              "      <td>15:56:43</td>\n",
              "      <td>1</td>\n",
              "      <td>0</td>\n",
              "      <td>0</td>\n",
              "      <td>0</td>\n",
              "      <td>0</td>\n",
              "      <td>0</td>\n",
              "      <td>0</td>\n",
              "      <td>99</td>\n",
              "      <td>...</td>\n",
              "      <td>0</td>\n",
              "      <td>0</td>\n",
              "      <td>0</td>\n",
              "      <td>0</td>\n",
              "      <td>0</td>\n",
              "      <td>0</td>\n",
              "      <td>0</td>\n",
              "      <td>0</td>\n",
              "      <td>0</td>\n",
              "      <td>0</td>\n",
              "    </tr>\n",
              "    <tr>\n",
              "      <th>4</th>\n",
              "      <td>20220413</td>\n",
              "      <td>15:56:44</td>\n",
              "      <td>0</td>\n",
              "      <td>0</td>\n",
              "      <td>0</td>\n",
              "      <td>1</td>\n",
              "      <td>0</td>\n",
              "      <td>0</td>\n",
              "      <td>0</td>\n",
              "      <td>99</td>\n",
              "      <td>...</td>\n",
              "      <td>0</td>\n",
              "      <td>0</td>\n",
              "      <td>0</td>\n",
              "      <td>0</td>\n",
              "      <td>0</td>\n",
              "      <td>0</td>\n",
              "      <td>0</td>\n",
              "      <td>0</td>\n",
              "      <td>0</td>\n",
              "      <td>0</td>\n",
              "    </tr>\n",
              "  </tbody>\n",
              "</table>\n",
              "<p>5 rows × 117 columns</p>\n",
              "</div>\n",
              "      <button class=\"colab-df-convert\" onclick=\"convertToInteractive('df-211e095d-c3cf-422b-9fc2-5dd38fd4ab2b')\"\n",
              "              title=\"Convert this dataframe to an interactive table.\"\n",
              "              style=\"display:none;\">\n",
              "        \n",
              "  <svg xmlns=\"http://www.w3.org/2000/svg\" height=\"24px\"viewBox=\"0 0 24 24\"\n",
              "       width=\"24px\">\n",
              "    <path d=\"M0 0h24v24H0V0z\" fill=\"none\"/>\n",
              "    <path d=\"M18.56 5.44l.94 2.06.94-2.06 2.06-.94-2.06-.94-.94-2.06-.94 2.06-2.06.94zm-11 1L8.5 8.5l.94-2.06 2.06-.94-2.06-.94L8.5 2.5l-.94 2.06-2.06.94zm10 10l.94 2.06.94-2.06 2.06-.94-2.06-.94-.94-2.06-.94 2.06-2.06.94z\"/><path d=\"M17.41 7.96l-1.37-1.37c-.4-.4-.92-.59-1.43-.59-.52 0-1.04.2-1.43.59L10.3 9.45l-7.72 7.72c-.78.78-.78 2.05 0 2.83L4 21.41c.39.39.9.59 1.41.59.51 0 1.02-.2 1.41-.59l7.78-7.78 2.81-2.81c.8-.78.8-2.07 0-2.86zM5.41 20L4 18.59l7.72-7.72 1.47 1.35L5.41 20z\"/>\n",
              "  </svg>\n",
              "      </button>\n",
              "      \n",
              "  <style>\n",
              "    .colab-df-container {\n",
              "      display:flex;\n",
              "      flex-wrap:wrap;\n",
              "      gap: 12px;\n",
              "    }\n",
              "\n",
              "    .colab-df-convert {\n",
              "      background-color: #E8F0FE;\n",
              "      border: none;\n",
              "      border-radius: 50%;\n",
              "      cursor: pointer;\n",
              "      display: none;\n",
              "      fill: #1967D2;\n",
              "      height: 32px;\n",
              "      padding: 0 0 0 0;\n",
              "      width: 32px;\n",
              "    }\n",
              "\n",
              "    .colab-df-convert:hover {\n",
              "      background-color: #E2EBFA;\n",
              "      box-shadow: 0px 1px 2px rgba(60, 64, 67, 0.3), 0px 1px 3px 1px rgba(60, 64, 67, 0.15);\n",
              "      fill: #174EA6;\n",
              "    }\n",
              "\n",
              "    [theme=dark] .colab-df-convert {\n",
              "      background-color: #3B4455;\n",
              "      fill: #D2E3FC;\n",
              "    }\n",
              "\n",
              "    [theme=dark] .colab-df-convert:hover {\n",
              "      background-color: #434B5C;\n",
              "      box-shadow: 0px 1px 3px 1px rgba(0, 0, 0, 0.15);\n",
              "      filter: drop-shadow(0px 1px 2px rgba(0, 0, 0, 0.3));\n",
              "      fill: #FFFFFF;\n",
              "    }\n",
              "  </style>\n",
              "\n",
              "      <script>\n",
              "        const buttonEl =\n",
              "          document.querySelector('#df-211e095d-c3cf-422b-9fc2-5dd38fd4ab2b button.colab-df-convert');\n",
              "        buttonEl.style.display =\n",
              "          google.colab.kernel.accessAllowed ? 'block' : 'none';\n",
              "\n",
              "        async function convertToInteractive(key) {\n",
              "          const element = document.querySelector('#df-211e095d-c3cf-422b-9fc2-5dd38fd4ab2b');\n",
              "          const dataTable =\n",
              "            await google.colab.kernel.invokeFunction('convertToInteractive',\n",
              "                                                     [key], {});\n",
              "          if (!dataTable) return;\n",
              "\n",
              "          const docLinkHtml = 'Like what you see? Visit the ' +\n",
              "            '<a target=\"_blank\" href=https://colab.research.google.com/notebooks/data_table.ipynb>data table notebook</a>'\n",
              "            + ' to learn more about interactive tables.';\n",
              "          element.innerHTML = '';\n",
              "          dataTable['output_type'] = 'display_data';\n",
              "          await google.colab.output.renderOutput(dataTable, element);\n",
              "          const docLink = document.createElement('div');\n",
              "          docLink.innerHTML = docLinkHtml;\n",
              "          element.appendChild(docLink);\n",
              "        }\n",
              "      </script>\n",
              "    </div>\n",
              "  </div>\n",
              "  "
            ]
          },
          "metadata": {},
          "execution_count": 10
        }
      ]
    },
    {
      "cell_type": "code",
      "source": [
        "df.columns"
      ],
      "metadata": {
        "colab": {
          "base_uri": "https://localhost:8080/"
        },
        "id": "SwNinJgeurAN",
        "outputId": "6816c99a-67ea-4a13-c87a-1637f6fe5b55"
      },
      "execution_count": 11,
      "outputs": [
        {
          "output_type": "execute_result",
          "data": {
            "text/plain": [
              "Index(['#Date', 'Time', '[CPU:0]User%', '[CPU:0]Nice%', '[CPU:0]Sys%',\n",
              "       '[CPU:0]Wait%', '[CPU:0]Irq%', '[CPU:0]Soft%', '[CPU:0]Steal%',\n",
              "       '[CPU:0]Idle%',\n",
              "       ...\n",
              "       '[TCPD]OutTimeExcds', '[TCPD]OutParmProbs', '[TCPD]OutSrcQuenchs',\n",
              "       '[TCPD]OutRedirects', '[TCPD]OutEchos', '[TCPD]OutEchoReps',\n",
              "       '[TCPD]OutTimestamps', '[TCPD]OutTimestampReps', '[TCPD]OutAddrMasks',\n",
              "       '[TCPD]OutAddrMaskReps'],\n",
              "      dtype='object', length=117)"
            ]
          },
          "metadata": {},
          "execution_count": 11
        }
      ]
    },
    {
      "cell_type": "code",
      "source": [
        "df['[CPU:0]User%'].plot()"
      ],
      "metadata": {
        "colab": {
          "base_uri": "https://localhost:8080/",
          "height": 282
        },
        "id": "EyUgtRRLusiJ",
        "outputId": "c037a9df-944f-4ee8-805e-9267ee53eff8"
      },
      "execution_count": 13,
      "outputs": [
        {
          "output_type": "execute_result",
          "data": {
            "text/plain": [
              "<matplotlib.axes._subplots.AxesSubplot at 0x7fc16d1b2b50>"
            ]
          },
          "metadata": {},
          "execution_count": 13
        },
        {
          "output_type": "display_data",
          "data": {
            "text/plain": [
              "<Figure size 432x288 with 1 Axes>"
            ],
            "image/png": "[encoded data removed]"
          },
          "metadata": {
            "needs_background": "light"
          }
        }
      ]
    },
    {
      "cell_type": "code",
      "source": [
        ""
      ],
      "metadata": {
        "id": "zFFIY3ODvpZG"
      },
      "execution_count": null,
      "outputs": []
    }
  ]
}